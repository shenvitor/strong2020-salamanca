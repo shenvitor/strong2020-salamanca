{
 "cells": [
  {
   "cell_type": "markdown",
   "id": "0",
   "metadata": {},
   "source": [
    "# Lecture 11 Helicity Formalism\n",
    "The example `Three-particles-3.dat` in lecture 11\n",
    "based on [Lecture 11](https://indico.ific.uv.es/event/6803/contributions/21223) by Vincent Mathieu "
   ]
  },
  {
   "cell_type": "code",
   "execution_count": null,
   "id": "1",
   "metadata": {
    "tags": [
     "hide-input",
     "remove-output"
    ]
   },
   "outputs": [],
   "source": [
    "%pip install -q gdown matplotlib numpy particle"
   ]
  },
  {
   "cell_type": "code",
   "execution_count": null,
   "id": "2",
   "metadata": {
    "jupyter": {
     "source_hidden": true
    },
    "tags": [
     "hide-cell"
    ]
   },
   "outputs": [],
   "source": [
    "import warnings\n",
    "\n",
    "import gdown\n",
    "import numpy as np\n",
    "from IPython.display import display\n",
    "\n",
    "warnings.filterwarnings(\"ignore\")"
   ]
  },
  {
   "cell_type": "code",
   "execution_count": null,
   "id": "3",
   "metadata": {
    "jupyter": {
     "source_hidden": true
    }
   },
   "outputs": [],
   "source": [
    "filename = gdown.cached_download(\n",
    "    url=\"https://indico.ific.uv.es/event/6803/contributions/21223/attachments/11221/15563/Three-particles-3.dat\",\n",
    "    path=\"data/Three-particles-3.dat\",\n",
    "    md5=\"75fedf381f9b62d3210ff200fc63165f\",\n",
    "    quiet=True,\n",
    "    verify=False,\n",
    ")\n",
    "data = np.loadtxt(filename)\n",
    "data.shape"
   ]
  },
  {
   "cell_type": "code",
   "execution_count": null,
   "id": "4",
   "metadata": {},
   "outputs": [],
   "source": [
    "data"
   ]
  },
  {
   "cell_type": "code",
   "execution_count": null,
   "id": "5",
   "metadata": {},
   "outputs": [],
   "source": [
    "n_final_state = 3\n",
    "pa, p1, p2, p3 = (data[i::4].T for i in range(n_final_state + 1))\n",
    "p0 = p1 + p2 + p3\n",
    "pb = p0 - pa"
   ]
  },
  {
   "cell_type": "code",
   "execution_count": null,
   "id": "6",
   "metadata": {},
   "outputs": [],
   "source": [
    "def mass(p: np.ndarray) -> np.ndarray:\n",
    "    return np.sqrt(mass_squared(p))\n",
    "\n",
    "\n",
    "def mass_squared(p: np.ndarray) -> np.ndarray:\n",
    "    return p[0] ** 2 - np.sum(p[1:] ** 2, axis=0)"
   ]
  },
  {
   "cell_type": "code",
   "execution_count": null,
   "id": "7",
   "metadata": {},
   "outputs": [],
   "source": [
    "m0 = mass(p0)\n",
    "print(f\"{m0.mean():.4g} +/- {m0.std():.4g}\")"
   ]
  },
  {
   "cell_type": "code",
   "execution_count": null,
   "id": "8",
   "metadata": {},
   "outputs": [],
   "source": [
    "from IPython.display import Math\n",
    "\n",
    "display(Math(Rf\"m_a = {mass(pa).mean():.3g}\\text{{ GeV}}\"))\n",
    "display(Math(Rf\"m_b = {mass(pb).mean():.3g}\\text{{ GeV}}\"))\n",
    "for i, p in enumerate([p0, p1, p2, p3]):\n",
    "    display(Math(Rf\"m_{i} = {mass(p).mean():.3g}\\text{{ GeV}}\"))"
   ]
  },
  {
   "cell_type": "code",
   "execution_count": null,
   "id": "9",
   "metadata": {},
   "outputs": [],
   "source": [
    "from particle import Particle\n",
    "\n",
    "\n",
    "def find_candidates(\n",
    "    mass: float, delta: float = 0.001, charge: float | None = None\n",
    ") -> list[Particle]:\n",
    "    def identify(p) -> bool:\n",
    "        if p.pdgid == 21:\n",
    "            return False\n",
    "        if charge is not None and p.charge != charge:\n",
    "            return False\n",
    "        return mass - delta < 0.001 * p.mass < mass + delta\n",
    "\n",
    "    return Particle.findall(identify)\n",
    "\n",
    "\n",
    "ma = mass(pa).mean()\n",
    "mb = mass(pb).mean()\n",
    "m1 = mass(p1).mean()\n",
    "m2 = mass(p2).mean()\n",
    "m3 = mass(p3).mean()\n",
    "initial_state = (\n",
    "    find_candidates(ma.mean(), delta=1e-4)[0],\n",
    "    find_candidates(mb.mean())[0],\n",
    ")\n",
    "final_state = tuple(find_candidates(m.mean())[0] for m in [m1, m2, m3])\n",
    "display(\n",
    "    Math(R\"\\text{Incoming: }\" + \", \".join(f\"{p.latex_name}\" for p in initial_state)),\n",
    "    Math(R\"\\text{Outgoing: }\" + \", \".join(f\"{p.latex_name}\" for p in final_state)),\n",
    ")"
   ]
  },
  {
   "cell_type": "markdown",
   "id": "10",
   "metadata": {},
   "source": [
    "a photon&nbsp;$\\gamma$ hitting a proton&nbsp;$p$ and producing a meson&nbsp;$\\eta$, pion&nbsp;$\\pi^0$, and proton&nbsp;$p$."
   ]
  },
  {
   "cell_type": "code",
   "execution_count": null,
   "id": "11",
   "metadata": {},
   "outputs": [],
   "source": [
    "s12 = mass_squared(p1 + p2)\n",
    "s23 = mass_squared(p2 + p3)\n",
    "s31 = mass_squared(p3 + p1)\n",
    "\n",
    "m12 = mass(p1 + p2)\n",
    "m23 = mass(p2 + p3)\n",
    "m31 = mass(p3 + p1)"
   ]
  },
  {
   "cell_type": "code",
   "execution_count": null,
   "id": "12",
   "metadata": {
    "jupyter": {
     "source_hidden": true
    },
    "tags": [
     "hide-input"
    ]
   },
   "outputs": [],
   "source": [
    "import matplotlib.pyplot as plt\n",
    "\n",
    "fig, ax = plt.subplots()\n",
    "fig.suptitle(\"Dalitz plot – 2D histogram\")\n",
    "ax.hist2d(s12, s23, bins=100, cmin=1)\n",
    "ax.set_xlabel(R\"$s_{12}\\;\\left[\\mathrm{GeV}^2\\right]$\")\n",
    "ax.set_ylabel(R\"$s_{23}\\;\\left[\\mathrm{GeV}^2\\right]$\")\n",
    "plt.show()"
   ]
  },
  {
   "cell_type": "code",
   "execution_count": null,
   "id": "13",
   "metadata": {},
   "outputs": [],
   "source": [
    "R12 = 1.74\n",
    "R23 = 1.53\n",
    "R31 = 2.45"
   ]
  },
  {
   "cell_type": "code",
   "execution_count": null,
   "id": "14",
   "metadata": {
    "tags": [
     "hide-input"
    ]
   },
   "outputs": [],
   "source": [
    "fig, (ax1, ax2) = plt.subplots(figsize=(10, 4), ncols=2)\n",
    "fig.suptitle(\"Dalitz plot – scatter plot\")\n",
    "ax1.scatter(s12, s23, c=\"black\", s=1e-3)\n",
    "ax1.set_xlabel(R\"$s_{12}\\;\\left[\\mathrm{GeV}^2\\right]$\")\n",
    "ax1.set_ylabel(R\"$s_{23}\\;\\left[\\mathrm{GeV}^2\\right]$\")\n",
    "ax1.axvline(R12, c=\"C0\", ls=\"dashed\", label=\"$R_{12}$\")\n",
    "ax1.axhline(R23, c=\"C1\", ls=\"dashed\", label=\"$R_{23}$\")\n",
    "ax1.legend()\n",
    "ax2.scatter(s31, s12, c=\"black\", s=1e-3)\n",
    "ax2.set_xlabel(R\"$s_{31}\\;\\left[\\mathrm{GeV}^2\\right]$\")\n",
    "ax2.set_ylabel(R\"$s_{12}\\;\\left[\\mathrm{GeV}^2\\right]$\")\n",
    "ax2.axvline(R31, c=\"C2\", ls=\"dashed\", label=\"$R_{31}$\")\n",
    "ax2.axhline(R12, c=\"C0\", ls=\"dashed\", label=\"$R_{12}$\")\n",
    "ax2.legend()\n",
    "fig.tight_layout()\n",
    "plt.show()"
   ]
  },
  {
   "cell_type": "code",
   "execution_count": null,
   "id": "15",
   "metadata": {
    "tags": [
     "full-width",
     "hide-input"
    ]
   },
   "outputs": [],
   "source": [
    "fig, (ax1, ax2, ax3) = plt.subplots(figsize=(12, 4), ncols=3)\n",
    "fig.suptitle(\"1D histogram of $s_{12}, s_{23}$, and $s_{31}$\")\n",
    "ax1.hist(s12, bins=100, color=\"black\", histtype=\"step\")\n",
    "ax1.set_xlabel(R\"$s_{12}$\")\n",
    "ax1.set_ylabel(\"counts\")\n",
    "ax1.axvline(R12, c=\"C0\", ls=\"dashed\", label=\"$R_{12}$\")\n",
    "ax1.legend()\n",
    "\n",
    "ax2.hist(s23, bins=100, color=\"black\", histtype=\"step\")\n",
    "ax2.set_xlabel(R\"$s_{23}$\")\n",
    "ax2.set_ylabel(\"counts\")\n",
    "ax2.axvline(R23, c=\"C1\", ls=\"dashed\", label=\"$R_{23}$\")\n",
    "ax2.legend()\n",
    "\n",
    "ax3.hist(s31, bins=100, color=\"black\", histtype=\"step\")\n",
    "ax3.set_xlabel(R\"$s_{31}$\")\n",
    "ax3.set_ylabel(\"counts\")\n",
    "ax3.axvline(R31, c=\"C2\", ls=\"dashed\", label=\"$R_{31}$\")\n",
    "ax3.legend()\n",
    "\n",
    "fig.tight_layout()\n",
    "plt.show()"
   ]
  },
  {
   "cell_type": "markdown",
   "id": "16",
   "metadata": {},
   "source": [
    "The intensity of band seems stronger Compare to `Three-particles-1.dat` and `Three-particles-2.dat` in {doc}`lecture02`, but needded further analysis for the modulations."
   ]
  }
 ],
 "metadata": {
  "colab": {
   "toc_visible": true
  },
  "kernelspec": {
   "display_name": "Pyproject Local",
   "language": "python",
   "name": "python3"
  },
  "language_info": {
   "codemirror_mode": {
    "name": "ipython",
    "version": 3
   },
   "file_extension": ".py",
   "mimetype": "text/x-python",
   "name": "python",
   "nbconvert_exporter": "python",
   "pygments_lexer": "ipython3",
   "version": "3.10.13"
  }
 },
 "nbformat": 4,
 "nbformat_minor": 5
}
